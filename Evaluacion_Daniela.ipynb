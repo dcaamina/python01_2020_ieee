{
  "nbformat": 4,
  "nbformat_minor": 0,
  "metadata": {
    "colab": {
      "name": "Evaluacion_Daniela.ipynb",
      "provenance": [],
      "collapsed_sections": []
    },
    "kernelspec": {
      "name": "python3",
      "display_name": "Python 3.7.3 32-bit",
      "metadata": {
        "interpreter": {
          "hash": "ca585555a2867b459a38eaf8b2b47956aef7a6f770e52f1f5dfa1f8f05e57688"
        }
      }
    }
  },
  "cells": [
    {
      "cell_type": "markdown",
      "metadata": {
        "id": "9VCPrvQ4KMgJ"
      },
      "source": [
        "# Python aplicado a la Ingeniería\r\n",
        "## Módulo 1\r\n",
        "### ***Alumna:***  Caamiña Daniela\r\n",
        "### ***DNI:*** 37665938\r\n",
        "### ***Carrera:*** Ingeniería Electrónica\r\n",
        "### ***Observaciones:*** \r\n",
        "*   El problema de Greed no pude hacerlo con menos código."
      ]
    },
    {
      "cell_type": "markdown",
      "metadata": {
        "id": "Kw9oLJHPg3qs"
      },
      "source": [
        "# Triangle project\n",
        "Este ejercicio debe pasar dos sets de pruebas, el primero de ellos verificará si la función puede clasificar triángulos, mientras que el otro set evalúa la robustez ante triangulos ilegales."
      ]
    },
    {
      "cell_type": "code",
      "metadata": {
        "id": "3O-QtS9fvDYG"
      },
      "source": [
        "def triangle(a, b, c):\r\n",
        "  \"\"\"Triangle es una funcion que analiza las longitudes de los lados de un triángulo\r\n",
        "  (representados por a, b y c) y devuelve el tipo de triangulo.\r\n",
        "      La salida es:\r\n",
        "        'equilatero'  si todos los lados son iguales\r\n",
        "        'isosceles'   si dos lados son iguales\r\n",
        "        'escaleno'     si todos los lados son distintos\r\n",
        "  \"\"\"\r\n",
        "# BORRAR \"PASS\" Y ESCRIBIR EL CÓDIGO DEBAJO DE ESTA LINEA PARA RESOLVER EL PROBLEMA\r\n",
        "# \r\n",
        "  if a<=0 or b<=0 or c<=0:\r\n",
        "    raise TriangleError #con un lado <= 0 no es posible hacer un triangulo\r\n",
        "  elif a<=(b+c) and b<=(c+a) and c<=(a+b): #propiedad de los triangulos, la suma de dos lados debe ser mayor o igual al valor del lado faltante\r\n",
        "    #if a==b and b==c and a==c:\r\n",
        "    if a==b==c:\r\n",
        "      return \"equilatero\"\r\n",
        "    elif a==b or b==c or a==c:\r\n",
        "      return \"isosceles\"\r\n",
        "    else:\r\n",
        "      return \"escaleno\"\r\n",
        "  else:\r\n",
        "    raise TriangleError\r\n",
        "       \r\n",
        "# ESTO NO HAY QUE CAMBIARLO\r\n",
        "class TriangleError(Exception):\r\n",
        "  pass\r\n"
      ],
      "execution_count": null,
      "outputs": []
    },
    {
      "cell_type": "markdown",
      "metadata": {
        "id": "e0MxtO8wkmCx"
      },
      "source": [
        "### Primer problema (2 puntos)\n",
        "Editar el código de la función anterior para que pase las siguientes pruebas:"
      ]
    },
    {
      "cell_type": "code",
      "metadata": {
        "id": "NYL4XrephtRn"
      },
      "source": [
        "assert('equilatero' == triangle(2, 2, 2))\n",
        "assert('equilatero' == triangle(10, 10, 10))\n",
        "assert('isosceles' == triangle(3, 4, 4))\n",
        "assert('isosceles' == triangle(4, 3, 4))\n",
        "assert('isosceles' == triangle(4, 4, 3))\n",
        "assert('isosceles' == triangle(10, 10, 2))\n",
        "assert('escaleno' == triangle(3, 4, 5))\n",
        "assert('escaleno' == triangle(10, 11, 12))\n",
        "assert('escaleno' == triangle(5, 4, 2))"
      ],
      "execution_count": null,
      "outputs": []
    },
    {
      "cell_type": "markdown",
      "metadata": {
        "id": "2tolK5TNkmC8"
      },
      "source": [
        "*El código debe correr sin mostrar \"AssertionError\"*\n",
        "### Segundo problema (1 punto)\n",
        "Se verificará el código con triángulos ilegales. Mejorá el código de la función triangle para que llame a la función TriangleError en caso de que se haya ingresado los parámetros de un triángulo ilegal.\n",
        "\n",
        "*AYUDA* recordá el uso de la instrucción \"raise\""
      ]
    },
    {
      "cell_type": "code",
      "metadata": {
        "id": "XaUDlBYDkTaJ"
      },
      "source": [
        "count = 0\n",
        "try:\n",
        "  # los lados de un triángulo deben ser mayores a cero\n",
        "  var = triangle(1.0, 0, 0)\n",
        "except TriangleError:\n",
        "  count += 1\n",
        "try:\n",
        "  # se debe cumplir el teorema de pitágoras\n",
        "  var = triangle(1, 1, 7)\n",
        "except TriangleError:\n",
        "  count += 1\n",
        "try:\n",
        "  var = triangle(1, 7, 1)\n",
        "except TriangleError:\n",
        "  count += 1\n",
        "try:\n",
        "  var = triangle(7, 1, 1)\n",
        "except TriangleError:\n",
        "  count += 1\n",
        "try:\n",
        "  var = triangle(0, 0, 0)\n",
        "except TriangleError:\n",
        "  count += 1\n",
        "try:\n",
        "  var = triangle(1, 1, -1)\n",
        "except TriangleError:\n",
        "  count += 1\n",
        "try:\n",
        "  var = triangle(1, 1, 5)\n",
        "except TriangleError:\n",
        "  count += 1\n",
        "assert(count == 7)"
      ],
      "execution_count": null,
      "outputs": []
    },
    {
      "cell_type": "markdown",
      "metadata": {
        "id": "7jDBcY8hzTXQ"
      },
      "source": [
        "*El código debe correr sin mostrar \"AssertionError\"*\n",
        "# Dice project\n",
        "Estamos comenzando a desarrollar un juego de la Generala y necesitamos hacer algunas verificaciones, debemos tener en cuenta que un cubilete es un objeto y los 5 dados en su interior serán quienes obtengan un valor en cada lanzamiento. No te olvides que es un juego de azar, y para esto podemos importar un paquete que contenga la funcion random.\n"
      ]
    },
    {
      "cell_type": "code",
      "metadata": {
        "id": "g7_nzeEun7YN"
      },
      "source": [
        " #importar random\n",
        "\n",
        "import random ####ESTO AGREGUÉ\n",
        "\n",
        "class DiceSet:\n",
        "    def __init__(self):\n",
        "        self._values = None\n",
        "\n",
        "    @property\n",
        "    def values(self):\n",
        "      return self._values\n",
        "\n",
        "    def values_set(self, new_values):\n",
        "      self._values = new_values\n",
        "  \n",
        "    def roll(self, n):\n",
        "        # Falta implementar, debe tirar n dados.\n",
        "        # Recordá que la función random.randint(min, max) puede ser utilizada para generar numeros aleatorios\n",
        "        # Empezá a escribir tu código debajo de esta línea\n",
        "      self._values = [] #la lista es con []\n",
        "      i=0\n",
        "      while i != n:\n",
        "        valor= random.randint(1, 6)\n",
        "        self._values.append(valor) #append es para ir agregando elemento al final de la lista\n",
        "        i += 1\n",
        "        "
      ],
      "execution_count": null,
      "outputs": []
    },
    {
      "cell_type": "markdown",
      "metadata": {
        "id": "mgFLzqXpkmDQ"
      },
      "source": [
        "### Tercer problema (2 puntos)\n",
        "Este set verificará si los dados son lanzados y si cada uno de ellos tiene un valor dentro de una lista"
      ]
    },
    {
      "cell_type": "code",
      "metadata": {
        "id": "uPly1Ey_rJFH"
      },
      "source": [
        "dice = DiceSet()\n",
        "assert(dice)\n",
        "#lanzo 5 dados\n",
        "dice.roll(5) \n",
        "dice.values \n",
        "if not isinstance(dice.values, list):\n",
        "  raise Exception(\"debería ser una lista\")\n",
        "assert(5 == len(dice.values))\n",
        "for value in dice.values:\n",
        "    if 1 <= value <= 6:\n",
        "      continue\n",
        "    raise Exception(f\"El valor {str(value):s} debe estar entre 1 y 6\")\n",
        "#lanzo 3 dados\n",
        "dice.roll(3)\n",
        "assert(3 == len(dice.values))\n",
        "#lanzo 1 dado\n",
        "dice.roll(1)\n",
        "assert(1 == len(dice.values))\n",
        "#hago dos lanzamientos y veo si son distintos\n",
        "dice.roll(5)\n",
        "first_time = dice.values\n",
        "dice.roll(5)\n",
        "second_time = dice.values\n",
        "assert(first_time != second_time)"
      ],
      "execution_count": null,
      "outputs": []
    },
    {
      "cell_type": "markdown",
      "metadata": {
        "id": "B1fGw80kkmDV"
      },
      "source": [
        "### Cuarto problema (1 punto)\n",
        "Si los dados son aleatorios, existe la posibilidad de que dos lanzamientos sean iguales, ¿cómo podrías mostrar que los dados son legales? Un dado es legal si cada numero tiene la misma probabilidad de salir. Podés mostrar tus resultados con tablas o gráficas y una breve explicación. Podés crear las celdas que creas necesarias, tanto para código como para texto en Markdown."
      ]
    },
    {
      "cell_type": "markdown",
      "metadata": {
        "id": "Ou_RaivmAd7-"
      },
      "source": [
        "###Resolución\r\n",
        "Para crear un progrma que muestre la probabilidad de cada dado, como sé que voy a crear un gráfico lo que hago es importar las librerías necesarias."
      ]
    },
    {
      "cell_type": "code",
      "metadata": {
        "id": "QflSj65q92fV"
      },
      "source": [
        "import numpy as np\r\n",
        "import matplotlib.pyplot as plt\r\n",
        "#%matplotlib inline ##lo comento para que no me aparezca la leyenda y uso show directamente"
      ],
      "execution_count": null,
      "outputs": []
    },
    {
      "cell_type": "markdown",
      "metadata": {
        "id": "arhXAylNBGQO"
      },
      "source": [
        "Una vez que importo las librerías comienzo a definir una función llamada **prob**.\r\n",
        "\r\n",
        "Para representar de forma gráfica realizo dos tipos, uno de lineas y otro gráfico de torta donde muestro el porcentaje que salió cada valor.\r\n",
        "\r\n",
        "Antes de correr el programa, asegurarse de haber corrido el principal donde se define **dice.roll**\r\n"
      ]
    },
    {
      "cell_type": "code",
      "metadata": {
        "id": "Rvd-jjFhkmDg",
        "colab": {
          "base_uri": "https://localhost:8080/",
          "height": 346
        },
        "outputId": "8551b5ba-98b7-42da-da2f-5198b119ef57"
      },
      "source": [
        "def prob():\r\n",
        "  uno=dos=tres=cuatro=cinco=seis=0 #inicializo variables\r\n",
        "  n=0\r\n",
        "  while n<=5000: #realizo 5000 muestras\r\n",
        "    dice.roll(5)  #tiro los dados\r\n",
        "    lista= dice.values\r\n",
        "    #print(f'lista {str(lista):s}') #iba corroborando por partes el código que realizaba\r\n",
        "    for i in lista: #voy por cada componente de la lista para sumar la cantidad de veces que aparece cada número por jugada.\r\n",
        "      if i==1:\r\n",
        "        uno += 1\r\n",
        "      elif i==2:\r\n",
        "        dos += 1\r\n",
        "      elif i==3:\r\n",
        "        tres += 1\r\n",
        "      elif i==4:\r\n",
        "        cuatro += 1\r\n",
        "      elif i==5:\r\n",
        "        cinco += 1\r\n",
        "      else:\r\n",
        "        seis += 1\r\n",
        "    n +=1 #incremento\r\n",
        "    num= [uno, dos, tres, cuatro, cinco, seis] #genero un nuevo vector con la cantidad que apareció cada número\r\n",
        "  num2= [\"1\", \"2\", \"3\", \"4\", \"5\", \"6\"] #lo utilizo como serie de los gráficos\r\n",
        "  \r\n",
        "  #grafico\r\n",
        "  plt.subplot(1,2,1)\r\n",
        "  plt.xlabel('número')\r\n",
        "  plt.ylabel('cantidad de veces que salió')\r\n",
        "  plt.stem(num2, num) #utilizo un gráfico\r\n",
        "\r\n",
        "  plt.subplot(1,2,2)\r\n",
        "  plt.pie(num, labels=num2, autopct='%1.1f%%') #muestro porcentaje\r\n",
        "    \r\n",
        "  plt.subplots_adjust(wspace=0.1) #espacio entre lo graficos porque si no queda mal\r\n",
        "  plt.suptitle(\"Dados legales\")\r\n",
        "\r\n",
        "  return plt.show()\r\n",
        "\r\n",
        "prob()\r\n"
      ],
      "execution_count": null,
      "outputs": [
        {
          "output_type": "stream",
          "text": [
            "/usr/local/lib/python3.6/dist-packages/ipykernel_launcher.py:29: UserWarning: In Matplotlib 3.3 individual lines on a stem plot will be added as a LineCollection instead of individual lines. This significantly improves the performance of a stem plot. To remove this warning and switch to the new behaviour, set the \"use_line_collection\" keyword argument to True.\n"
          ],
          "name": "stderr"
        },
        {
          "output_type": "display_data",
          "data": {
            "image/png": "[encoded data removed]",
            "text/plain": [
              "<Figure size 432x288 with 2 Axes>"
            ]
          },
          "metadata": {
            "tags": [],
            "needs_background": "light"
          }
        }
      ]
    },
    {
      "cell_type": "markdown",
      "metadata": {
        "id": "awiBPYUTzbOn"
      },
      "source": [
        "# Greed Project\n",
        "\n",
        "Greed es un juego de dados en los cuales se lanzan 5 dados para acumular puntos, tiene ciertas reglas para calcular el puntaje.\n",
        "\n",
        "* Tres 1 suman 1000 puntos.\n",
        "* Cada 1 adicional a una terna suma 100 puntos.\n",
        "* Tres numeros iguales multiplican su valor por 100, por ejemplo tres 5 suman 500 puntos.\n",
        "* Un 5 que no es parte de una terna suma 50 puntos.\n",
        "* Todo lo demas vale 0 puntos.\n",
        "\n",
        "Ejemplos:\n",
        "````\n",
        "score([1,1,1,5,1]) => 1150 puntos\n",
        "score([2,3,4,6,2]) => 0 puntos\n",
        "score([3,4,5,3,3]) => 350 puntos\n",
        "score([1,5,1,2,4]) => 250 puntos\n",
        "````\n",
        "\n",
        "El objetivo es escribir este sistema de puntajes\n"
      ]
    },
    {
      "cell_type": "code",
      "metadata": {
        "id": "c4eXXBPfPubS"
      },
      "source": [
        "def score(lista):\r\n",
        "    # Escribí el código necesario\r\n",
        "\r\n",
        "  #inicializo todos los contadores en cero porque si no me saltaba error\r\n",
        "  c1=c2=c3=c4=c5=c6=punt1=punt2=punt3=punt4=punt5=punt6=puntaje=0 \r\n",
        "  for i in lista:\r\n",
        "    if i==1:\r\n",
        "      c1 += 1\r\n",
        "      if c1==3:\r\n",
        "        punt1= 1000        \r\n",
        "      elif c1>3:\r\n",
        "        punt1= 1000+(c1 -3)*100\r\n",
        "      elif 0<c1<3:\r\n",
        "        punt1= c1*100\r\n",
        "      else:\r\n",
        "        punt1= 0\r\n",
        "    elif i==2:\r\n",
        "      c2 += 1\r\n",
        "      if c2>=3:\r\n",
        "        punt2= 200\r\n",
        "      else:\r\n",
        "        punt2=0\r\n",
        "    elif i==3:\r\n",
        "      c3 += 1\r\n",
        "      if c3>=3:\r\n",
        "        punt3= 300\r\n",
        "      else:\r\n",
        "        punt3=0\r\n",
        "    elif i==4:\r\n",
        "      c4 += 1\r\n",
        "      if c4>=3:\r\n",
        "        punt4= 400\r\n",
        "      else:\r\n",
        "        punt4=0\r\n",
        "    elif i==5:\r\n",
        "      c5 += 1\r\n",
        "      if c5==3:\r\n",
        "        punt5= 500\r\n",
        "      elif c5>3:\r\n",
        "        punt5= 500+ (c5-3)*50\r\n",
        "      else:\r\n",
        "        punt5=c5*50\r\n",
        "    else:\r\n",
        "      c6 += 1\r\n",
        "      if c6>=3:\r\n",
        "        punt6= 600\r\n",
        "      else:\r\n",
        "        punt6=0        \r\n",
        "  puntaje= punt1 + punt2 + punt3 + punt4 + punt5 + punt6\r\n",
        "  #print(puntaje)\r\n",
        "  return puntaje"
      ],
      "execution_count": null,
      "outputs": []
    },
    {
      "cell_type": "markdown",
      "metadata": {
        "id": "RtllTU_VkmDj"
      },
      "source": [
        "### Quinto problema (2 puntos)\n",
        "Aquí vamos a verificar si el sistema de puntuación funciona con algunas jugadas conocidas."
      ]
    },
    {
      "cell_type": "code",
      "metadata": {
        "id": "pjpnWjXmxPee"
      },
      "source": [
        "assert(50 == score([5]))\n",
        "assert(100 == score([1]))\n",
        "assert(300 == score([1,5,5,1]))\n",
        "assert(0 == score([2,3,4,6]))\n",
        "assert(1000 == score([1,1,1]))\n",
        "assert(200 == score([2,2,2]))\n",
        "assert(300 == score([3,3,3]))\n",
        "assert(400 == score([4,4,4]))\n",
        "assert(500 == score([5,5,5]))\n",
        "assert(600 == score([6,6,6]))\n",
        "assert(250 == score([2,5,2,2,3]))\n",
        "assert(550 == score([5,5,5,5]))\n",
        "assert(1150 == score([1,1,1,5,1]))\n",
        "assert(300 == score([1,2,2,2]))\n",
        "assert(350 == score([1,5,2,2,2]))"
      ],
      "execution_count": null,
      "outputs": []
    },
    {
      "cell_type": "markdown",
      "metadata": {
        "id": "0lfaUj7dkmDm"
      },
      "source": [
        "### Sexto problema (2 puntos)\n",
        "Usando la función \"score\" puntúa una jugada aleatoria de *Dice Project*, no te olvides de lanzar nuevamente los dados con ``dice.roll(5)``, mostrar sus valores y el puntaje obtenido."
      ]
    },
    {
      "cell_type": "code",
      "metadata": {
        "colab": {
          "base_uri": "https://localhost:8080/"
        },
        "id": "sW7TxEtn-Zuv",
        "outputId": "233d4ddd-149c-4cd3-93ca-376f22a813d0"
      },
      "source": [
        "def sexto():\r\n",
        "  a=[] #inicializo lista\r\n",
        "  dice.roll(5) #tiro los dados\r\n",
        "  a=dice.values #coloco los valores en la lista\r\n",
        "  b=score(a) #llamo a la otra funcion\r\n",
        "  return print(f'Sus dados son {str(a):s} y el puntaje obtenido es {str(b):s}')\r\n",
        "sexto()\r\n"
      ],
      "execution_count": null,
      "outputs": [
        {
          "output_type": "stream",
          "text": [
            "Sus dados son [1, 3, 1, 4, 4] y el puntaje obtenido es 200\n"
          ],
          "name": "stdout"
        }
      ]
    }
  ]
}